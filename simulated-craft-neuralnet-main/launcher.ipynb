{
 "cells": [
  {
   "cell_type": "code",
   "execution_count": 1,
   "id": "3f801d9f-91b6-4e0b-a030-227a042e9399",
   "metadata": {},
   "outputs": [
    {
     "name": "stdout",
     "output_type": "stream",
     "text": [
      "pygame 2.1.2 (SDL 2.0.18, Python 3.9.12)\n",
      "Hello from the pygame community. https://www.pygame.org/contribute.html\n",
      "[5, 4, 4]\n",
      "GENERATION: 0 -- Highest Fitness: 1.03 | Time In: 0 | Goals: 0\n",
      "GENERATION: 10 -- Highest Fitness: 1.07 | Time In: 0.1 | Goals: 0\n",
      "GENERATION: 20 -- Highest Fitness: 1.08 | Time In: 0.17 | Goals: 0\n",
      "GENERATION: 30 -- Highest Fitness: 1.08 | Time In: 0.17 | Goals: 0\n",
      "GENERATION: 40 -- Highest Fitness: 1.08 | Time In: 0.17 | Goals: 0\n",
      "GENERATION: 50 -- Highest Fitness: 1.08 | Time In: 0.17 | Goals: 0\n",
      "GENERATION: 60 -- Highest Fitness: 1.08 | Time In: 0.17 | Goals: 0\n",
      "GENERATION: 70 -- Highest Fitness: 1.08 | Time In: 0.17 | Goals: 0\n",
      "GENERATION: 80 -- Highest Fitness: 1.08 | Time In: 0.17 | Goals: 0\n",
      "GENERATION: 90 -- Highest Fitness: 1.08 | Time In: 0.17 | Goals: 0\n",
      "GENERATION: 100 -- Highest Fitness: 1.08 | Time In: 0.17 | Goals: 0\n",
      "GENERATION: 110 -- Highest Fitness: 1.08 | Time In: 0.17 | Goals: 0\n",
      "GENERATION: 120 -- Highest Fitness: 1.09 | Time In: 0.23 | Goals: 0\n",
      "GENERATION: 130 -- Highest Fitness: 1.09 | Time In: 0.23 | Goals: 0\n",
      "GENERATION: 140 -- Highest Fitness: 1.1 | Time In: 0.5 | Goals: 0\n",
      "GENERATION: 150 -- Highest Fitness: 1.1 | Time In: 0.5 | Goals: 0\n",
      "GENERATION: 160 -- Highest Fitness: 1.1 | Time In: 0.5 | Goals: 0\n",
      "GENERATION: 170 -- Highest Fitness: 1.12 | Time In: 0.6 | Goals: 0\n",
      "GENERATION: 180 -- Highest Fitness: 1.14 | Time In: 0.67 | Goals: 0\n",
      "GENERATION: 190 -- Highest Fitness: 1.14 | Time In: 0.67 | Goals: 0\n",
      "GENERATION: 199 -- Highest Fitness: 1.14 | Time In: 0.7 | Goals: 0\n",
      "\n",
      "Finishing up...\n",
      "Done.\n"
     ]
    }
   ],
   "source": [
    "%run \"generator.py\""
   ]
  },
  {
   "cell_type": "code",
   "execution_count": null,
   "id": "7acbcabe-e02c-4161-b623-450c202ea66b",
   "metadata": {},
   "outputs": [],
   "source": []
  }
 ],
 "metadata": {
  "kernelspec": {
   "display_name": "Python 3 (ipykernel)",
   "language": "python",
   "name": "python3"
  },
  "language_info": {
   "codemirror_mode": {
    "name": "ipython",
    "version": 3
   },
   "file_extension": ".py",
   "mimetype": "text/x-python",
   "name": "python",
   "nbconvert_exporter": "python",
   "pygments_lexer": "ipython3",
   "version": "3.9.12"
  }
 },
 "nbformat": 4,
 "nbformat_minor": 5
}
